{
  "nbformat": 4,
  "nbformat_minor": 0,
  "metadata": {
    "colab": {
      "provenance": []
    },
    "kernelspec": {
      "name": "python3",
      "display_name": "Python 3"
    },
    "language_info": {
      "name": "python"
    }
  },
  "cells": [
    {
      "cell_type": "code",
      "execution_count": 1,
      "metadata": {
        "id": "a0km-DCDb49y"
      },
      "outputs": [],
      "source": [
        "# utilizado para manejos de directorios y rutas\n",
        "import os\n",
        "\n",
        "# Computacion vectorial y cientifica para python\n",
        "import numpy as np\n",
        "\n",
        "# Librerias para graficación (trazado de gráficos)\n",
        "from matplotlib import pyplot\n",
        "from mpl_toolkits.mplot3d import Axes3D  # Necesario para graficar superficies 3D\n",
        "\n",
        "# llama a matplotlib a embeber graficas dentro de los cuadernillos\n",
        "%matplotlib inline"
      ]
    },
    {
      "cell_type": "code",
      "source": [
        "import pandas as pd\n",
        "from sklearn.preprocessing import LabelEncoder\n",
        "from datetime import datetime"
      ],
      "metadata": {
        "id": "av1rOMr-cGaw"
      },
      "execution_count": 2,
      "outputs": []
    },
    {
      "cell_type": "code",
      "source": [
        "!pip install pandas faker\n",
        "from faker import Faker"
      ],
      "metadata": {
        "colab": {
          "base_uri": "https://localhost:8080/"
        },
        "id": "j2foORsmcPsl",
        "outputId": "923c7283-40a7-467a-ab91-0c4a66ce4e88"
      },
      "execution_count": 3,
      "outputs": [
        {
          "output_type": "stream",
          "name": "stdout",
          "text": [
            "Looking in indexes: https://pypi.org/simple, https://us-python.pkg.dev/colab-wheels/public/simple/\n",
            "Requirement already satisfied: pandas in /usr/local/lib/python3.10/dist-packages (1.5.3)\n",
            "Collecting faker\n",
            "  Downloading Faker-18.10.0-py3-none-any.whl (1.7 MB)\n",
            "\u001b[2K     \u001b[90m━━━━━━━━━━━━━━━━━━━━━━━━━━━━━━━━━━━━━━━━\u001b[0m \u001b[32m1.7/1.7 MB\u001b[0m \u001b[31m47.8 MB/s\u001b[0m eta \u001b[36m0:00:00\u001b[0m\n",
            "\u001b[?25hRequirement already satisfied: python-dateutil>=2.8.1 in /usr/local/lib/python3.10/dist-packages (from pandas) (2.8.2)\n",
            "Requirement already satisfied: pytz>=2020.1 in /usr/local/lib/python3.10/dist-packages (from pandas) (2022.7.1)\n",
            "Requirement already satisfied: numpy>=1.21.0 in /usr/local/lib/python3.10/dist-packages (from pandas) (1.22.4)\n",
            "Requirement already satisfied: six>=1.5 in /usr/local/lib/python3.10/dist-packages (from python-dateutil>=2.8.1->pandas) (1.16.0)\n",
            "Installing collected packages: faker\n",
            "Successfully installed faker-18.10.0\n"
          ]
        }
      ]
    },
    {
      "cell_type": "code",
      "source": [
        "#Carga de dataset\n",
        "data = pd.read_csv('/content/diabetes.csv', header=0)"
      ],
      "metadata": {
        "id": "BPaIpOTMcXNq"
      },
      "execution_count": 4,
      "outputs": []
    },
    {
      "cell_type": "code",
      "source": [
        "print(data)"
      ],
      "metadata": {
        "colab": {
          "base_uri": "https://localhost:8080/"
        },
        "id": "ZT3IEwaAch8S",
        "outputId": "55cc2109-8cad-470a-de1a-6e01a06e29b5"
      },
      "execution_count": 5,
      "outputs": [
        {
          "output_type": "stream",
          "name": "stdout",
          "text": [
            "     Pregnancies  Glucose  BloodPressure  SkinThickness  Insulin   BMI  \\\n",
            "0              6      148             72             35        0  33.6   \n",
            "1              1       85             66             29        0  26.6   \n",
            "2              8      183             64              0        0  23.3   \n",
            "3              1       89             66             23       94  28.1   \n",
            "4              0      137             40             35      168  43.1   \n",
            "..           ...      ...            ...            ...      ...   ...   \n",
            "763           10      101             76             48      180  32.9   \n",
            "764            2      122             70             27        0  36.8   \n",
            "765            5      121             72             23      112  26.2   \n",
            "766            1      126             60              0        0  30.1   \n",
            "767            1       93             70             31        0  30.4   \n",
            "\n",
            "     DiabetesPedigreeFunction  Age  Outcome  \n",
            "0                       0.627   50        1  \n",
            "1                       0.351   31        0  \n",
            "2                       0.672   32        1  \n",
            "3                       0.167   21        0  \n",
            "4                       2.288   33        1  \n",
            "..                        ...  ...      ...  \n",
            "763                     0.171   63        0  \n",
            "764                     0.340   27        0  \n",
            "765                     0.245   30        0  \n",
            "766                     0.349   47        1  \n",
            "767                     0.315   23        0  \n",
            "\n",
            "[768 rows x 9 columns]\n"
          ]
        }
      ]
    },
    {
      "cell_type": "code",
      "source": [
        "fake = Faker()\n",
        "synthetic_data = []"
      ],
      "metadata": {
        "id": "4cUdqd1_c8pA"
      },
      "execution_count": 6,
      "outputs": []
    },
    {
      "cell_type": "code",
      "source": [
        "print(data.columns)"
      ],
      "metadata": {
        "colab": {
          "base_uri": "https://localhost:8080/"
        },
        "id": "ETmZIO8mdJdn",
        "outputId": "ddd9cae5-4491-412f-d78f-d7abb5c0c70b"
      },
      "execution_count": 7,
      "outputs": [
        {
          "output_type": "stream",
          "name": "stdout",
          "text": [
            "Index(['Pregnancies', 'Glucose', 'BloodPressure', 'SkinThickness', 'Insulin',\n",
            "       'BMI', 'DiabetesPedigreeFunction', 'Age', 'Outcome'],\n",
            "      dtype='object')\n"
          ]
        }
      ]
    },
    {
      "cell_type": "code",
      "source": [
        "for _ in range(10000):\n",
        "     Pregnancies = fake.random_int(min=0, max=17)\n",
        "     Glucose = fake.random_int(min=0, max=199)\n",
        "     BloodPressure = fake.random_int(min=0, max=122)\n",
        "     SkinThickness = fake.random_int(min=0, max=99)\n",
        "     Insulin = fake.random_int(min=0, max=846)\n",
        "     BMI = fake.pyfloat(left_digits=3, right_digits=3, min_value=0, max_value=67.1)\n",
        "     DiabetesPedigreeFunction = fake.pyfloat(left_digits=3, right_digits=3, min_value=0.08, max_value=2.42)\n",
        "     Age = fake.random_int(min=21, max=81)\n",
        "     Outcome = fake.random_int(min=0, max=1)\n",
        "     synthetic_data.append([Pregnancies, Glucose, BloodPressure, SkinThickness, Insulin, BMI, DiabetesPedigreeFunction, Age, Outcome])"
      ],
      "metadata": {
        "id": "ye8OrAihdM0v"
      },
      "execution_count": 13,
      "outputs": []
    },
    {
      "cell_type": "code",
      "source": [
        "synthetic_data = pd.DataFrame(synthetic_data, columns=['Pregnancies', 'Glucose', 'BloodPressure', 'SkinThickness', 'Insulin',\n",
        "       'BMI', 'DiabetesPedigreeFunction', 'Age', 'Outcome'])\n",
        "data = pd.concat([data, synthetic_data], ignore_index=True)\n",
        "data.to_csv('diabetes_updated.csv', index=False)"
      ],
      "metadata": {
        "id": "4sV7MuRGgYPC"
      },
      "execution_count": 14,
      "outputs": []
    },
    {
      "cell_type": "code",
      "source": [
        "print(synthetic_data)"
      ],
      "metadata": {
        "colab": {
          "base_uri": "https://localhost:8080/"
        },
        "id": "sZSw-Epgh0QI",
        "outputId": "fecf612d-546d-4712-f2cb-aae21471d62d"
      },
      "execution_count": 15,
      "outputs": [
        {
          "output_type": "stream",
          "name": "stdout",
          "text": [
            "      Pregnancies  Glucose  BloodPressure  SkinThickness  Insulin     BMI  \\\n",
            "0              17      103             19             64      395  19.264   \n",
            "1               7      170              0             21      800  13.653   \n",
            "2              14      168             45             39      198  33.444   \n",
            "3              14      189             19             79        8  57.696   \n",
            "4              16      102             91             96      667  47.526   \n",
            "...           ...      ...            ...            ...      ...     ...   \n",
            "9995            6      193            106             49      305   8.979   \n",
            "9996            6      156             24             78      478  60.590   \n",
            "9997            6       17             74             26      819  44.382   \n",
            "9998            7       58            114             28       56  10.954   \n",
            "9999            5      191             10             83      262  62.713   \n",
            "\n",
            "      DiabetesPedigreeFunction  Age  Outcome  \n",
            "0                        1.308   72        0  \n",
            "1                        0.492   51        1  \n",
            "2                        1.742   30        0  \n",
            "3                        0.188   75        0  \n",
            "4                        1.273   71        0  \n",
            "...                        ...  ...      ...  \n",
            "9995                     0.414   54        1  \n",
            "9996                     1.502   62        0  \n",
            "9997                     0.999   23        0  \n",
            "9998                     1.763   66        0  \n",
            "9999                     1.782   76        0  \n",
            "\n",
            "[10000 rows x 9 columns]\n"
          ]
        }
      ]
    }
  ]
}