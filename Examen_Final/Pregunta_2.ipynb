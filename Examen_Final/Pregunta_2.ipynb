{
  "nbformat": 4,
  "nbformat_minor": 0,
  "metadata": {
    "colab": {
      "provenance": []
    },
    "kernelspec": {
      "name": "python3",
      "display_name": "Python 3"
    },
    "language_info": {
      "name": "python"
    }
  },
  "cells": [
    {
      "cell_type": "code",
      "source": [
        "import random\n",
        "# utilizado para la manipulación de directorios y rutas\n",
        "import os\n",
        "\n",
        "# Cálculo científico y vectorial para python\n",
        "import numpy as np\n",
        "\n",
        "# Libreria para graficos\n",
        "from matplotlib import pyplot\n",
        "\n",
        "# Modulo de optimizacion en scipy\n",
        "from scipy import optimize\n",
        "\n",
        "# le dice a matplotlib que incruste gráficos en el cuaderno\n",
        "%matplotlib inline"
      ],
      "metadata": {
        "id": "HwY-8eOWeesL"
      },
      "execution_count": 318,
      "outputs": []
    },
    {
      "cell_type": "code",
      "source": [
        "class Layer():\n",
        "    def __init__(self):\n",
        "        self.params = []\n",
        "        self.grads = []\n",
        "\n",
        "    def __call__(self, x):\n",
        "        # por defecto, devolver los inputs\n",
        "        # cada capa hará algo diferente aquí\n",
        "        return x\n",
        "\n",
        "    def backward(self, grad):\n",
        "        # cada capa, calculará sus gradientes\n",
        "        # y los devolverá para las capas siguientes\n",
        "        return grad\n",
        "\n",
        "    def update(self, params):\n",
        "        # si hay parámetros, los actualizaremos\n",
        "        # con lo que nos de el optimizer\n",
        "        return"
      ],
      "metadata": {
        "id": "DvNLOzfobMTa"
      },
      "execution_count": 319,
      "outputs": []
    },
    {
      "cell_type": "code",
      "source": [
        "class Linear(Layer):\n",
        "    def __init__(self, d_in, d_out):\n",
        "        # pesos de la capa\n",
        "        self.w = np.random.normal(loc=0.0,\n",
        "                                  scale=np.sqrt(2/(d_in+d_out)),\n",
        "                                  size=(d_in, d_out))\n",
        "        self.b = np.zeros(d_out)\n",
        "\n",
        "    def __call__(self, x):\n",
        "        self.x = x\n",
        "        self.params = [self.w, self.b]\n",
        "        # salida del preceptrón\n",
        "        return np.dot(x, self.w) + self.b\n",
        "\n",
        "    def backward(self, grad_output):\n",
        "        # gradientes para la capa siguiente (BACKPROP)\n",
        "        grad = np.dot(grad_output, self.w.T)\n",
        "        self.grad_w = np.dot(self.x.T, grad_output)\n",
        "        # gradientes para actualizar pesos\n",
        "        self.grad_b = grad_output.mean(axis=0)*self.x.shape[0]\n",
        "        self.grads = [self.grad_w, self.grad_b]\n",
        "        return grad\n",
        "\n",
        "    def update(self, params):\n",
        "        self.w, self.b = params"
      ],
      "metadata": {
        "id": "moBPmdw5bY24"
      },
      "execution_count": 320,
      "outputs": []
    },
    {
      "cell_type": "code",
      "source": [
        "#funciones de activacion\n",
        "class ReLU(Layer):\n",
        "    def __call__(self, x):\n",
        "        self.x = x\n",
        "        return np.maximum(0, x)\n",
        "\n",
        "    def backward(self, grad_output):\n",
        "        grad = self.x > 0\n",
        "        return grad_output*grad\n",
        "\n",
        "def sigmoid(x):\n",
        "  return 1 / (1 + np.exp(-x))\n",
        "\n",
        "def softmax(x):\n",
        "    return np.exp(x) / np.exp(x).sum(axis=-1,keepdims=True)\n",
        "\n",
        "class Sigmoid(Layer):\n",
        "    def __call__(self, x):\n",
        "        self.x = x\n",
        "        return sigmoid(x)\n",
        "\n",
        "    def backward(self, grad_output):\n",
        "        grad = sigmoid(self.x)*(1 - sigmoid(self.x))\n",
        "        return grad_output*grad"
      ],
      "metadata": {
        "id": "zcQO_yZSeMOw"
      },
      "execution_count": 321,
      "outputs": []
    },
    {
      "cell_type": "code",
      "source": [
        "#Optimizador, stocastic greadent descent\n",
        "class SGD():\n",
        "    def __init__(self, net, lr):\n",
        "        self.net = net\n",
        "        self.lr = lr\n",
        "\n",
        "    def update(self):\n",
        "        for layer in self.net.layers:\n",
        "            layer.update([\n",
        "                params - self.lr*grads\n",
        "                for params, grads in zip(layer.params, layer.grads)\n",
        "            ])"
      ],
      "metadata": {
        "id": "f54Br-WFeQEh"
      },
      "execution_count": 322,
      "outputs": []
    },
    {
      "cell_type": "code",
      "source": [
        "class Loss():\n",
        "    def __init__(self, net):\n",
        "        self.net = net\n",
        "\n",
        "    def backward(self):\n",
        "        # derivada de la loss function con respecto\n",
        "        # a la salida del MLP\n",
        "        grad = self.grad_loss()\n",
        "        # BACKPROPAGATION\n",
        "        for layer in reversed(self.net.layers):\n",
        "            grad = layer.backward(grad)\n",
        "\n",
        "class MSE(Loss):\n",
        "    def __call__(self, output, target):\n",
        "        self.output, self.target = output, target.reshape(output.shape)\n",
        "        loss = np.mean((self.output - self.target)**2)\n",
        "        return loss.mean()\n",
        "\n",
        "    def grad_loss(self):\n",
        "        return self.output -  self.target\n",
        "\n",
        "class BCE(Loss):\n",
        "    def __call__(self, output, target):\n",
        "        self.output, self.target = output, target.reshape(output.shape)\n",
        "        loss = - np.mean(self.target*np.log(self.output) - (1 - self.target)*np.log(1 - self.output))\n",
        "        return loss.mean()\n",
        "\n",
        "    def grad_loss(self):\n",
        "        return self.output -  self.target\n",
        "\n",
        "class CrossEntropy(Loss):\n",
        "    def __call__(self, output, target):\n",
        "        self.output, self.target = output, target\n",
        "        logits = output[np.arange(len(output)), target]\n",
        "        loss = - logits + np.log(np.sum(np.exp(output), axis=-1))\n",
        "        loss = loss.mean()\n",
        "        return loss\n",
        "\n",
        "    def grad_loss(self):\n",
        "        answers = np.zeros_like(self.output)\n",
        "        answers[np.arange(len(self.output)), self.target] = 1\n",
        "        return (- answers + softmax(self.output)) / self.output.shape[0]"
      ],
      "metadata": {
        "id": "IeR9a9Q_eSkd"
      },
      "execution_count": 323,
      "outputs": []
    },
    {
      "cell_type": "code",
      "source": [
        "import pandas as pd\n",
        "from sklearn.preprocessing import LabelEncoder\n",
        "from datetime import datetime\n",
        "\n",
        "#Carga de dataset\n",
        "data = pd.read_csv('/content/car_price_prediction.csv')"
      ],
      "metadata": {
        "id": "pVmLHOJjwjKv"
      },
      "execution_count": 324,
      "outputs": []
    },
    {
      "cell_type": "code",
      "source": [
        "data.info()"
      ],
      "metadata": {
        "colab": {
          "base_uri": "https://localhost:8080/"
        },
        "id": "BSYUpd4w90cM",
        "outputId": "cd19860c-96f5-43d3-8757-0d7420d947e8"
      },
      "execution_count": 325,
      "outputs": [
        {
          "output_type": "stream",
          "name": "stdout",
          "text": [
            "<class 'pandas.core.frame.DataFrame'>\n",
            "RangeIndex: 19237 entries, 0 to 19236\n",
            "Data columns (total 18 columns):\n",
            " #   Column            Non-Null Count  Dtype  \n",
            "---  ------            --------------  -----  \n",
            " 0   ID                19237 non-null  int64  \n",
            " 1   Price             19237 non-null  int64  \n",
            " 2   Levy              19237 non-null  object \n",
            " 3   Manufacturer      19237 non-null  object \n",
            " 4   Model             19237 non-null  object \n",
            " 5   Prod. year        19237 non-null  int64  \n",
            " 6   Category          19237 non-null  object \n",
            " 7   Leather interior  19237 non-null  object \n",
            " 8   Fuel type         19237 non-null  object \n",
            " 9   Engine volume     19237 non-null  object \n",
            " 10  Mileage           19237 non-null  object \n",
            " 11  Cylinders         19237 non-null  float64\n",
            " 12  Gear box type     19237 non-null  object \n",
            " 13  Drive wheels      19237 non-null  object \n",
            " 14  Doors             19237 non-null  object \n",
            " 15  Wheel             19237 non-null  object \n",
            " 16  Color             19237 non-null  object \n",
            " 17  Airbags           19237 non-null  int64  \n",
            "dtypes: float64(1), int64(4), object(13)\n",
            "memory usage: 2.6+ MB\n"
          ]
        }
      ]
    },
    {
      "cell_type": "code",
      "source": [
        "columnas_categoricas = data.select_dtypes(include=['object']).columns\n",
        "columnas_fechas = data.select_dtypes(include=['datetime64']).columns\n",
        "\n",
        "#Procesamiento de frases\n",
        "for columna in columnas_categoricas:\n",
        "  le = LabelEncoder()\n",
        "  data[columna] = le.fit_transform(data[columna])\n",
        "\n",
        "#Fechas a numeros\n",
        "for columna in columnas_fechas:\n",
        "  data[columna] = pd.to_numeric(data[columna].map(datetime.timestamp))"
      ],
      "metadata": {
        "id": "Fws0_jBp9-ac"
      },
      "execution_count": 326,
      "outputs": []
    },
    {
      "cell_type": "code",
      "source": [
        "data.info()"
      ],
      "metadata": {
        "colab": {
          "base_uri": "https://localhost:8080/"
        },
        "id": "9zve3lxq-GbY",
        "outputId": "232d2a43-34f4-45c2-e32a-a48ba0fb8c69"
      },
      "execution_count": 327,
      "outputs": [
        {
          "output_type": "stream",
          "name": "stdout",
          "text": [
            "<class 'pandas.core.frame.DataFrame'>\n",
            "RangeIndex: 19237 entries, 0 to 19236\n",
            "Data columns (total 18 columns):\n",
            " #   Column            Non-Null Count  Dtype  \n",
            "---  ------            --------------  -----  \n",
            " 0   ID                19237 non-null  int64  \n",
            " 1   Price             19237 non-null  int64  \n",
            " 2   Levy              19237 non-null  int64  \n",
            " 3   Manufacturer      19237 non-null  int64  \n",
            " 4   Model             19237 non-null  int64  \n",
            " 5   Prod. year        19237 non-null  int64  \n",
            " 6   Category          19237 non-null  int64  \n",
            " 7   Leather interior  19237 non-null  int64  \n",
            " 8   Fuel type         19237 non-null  int64  \n",
            " 9   Engine volume     19237 non-null  int64  \n",
            " 10  Mileage           19237 non-null  int64  \n",
            " 11  Cylinders         19237 non-null  float64\n",
            " 12  Gear box type     19237 non-null  int64  \n",
            " 13  Drive wheels      19237 non-null  int64  \n",
            " 14  Doors             19237 non-null  int64  \n",
            " 15  Wheel             19237 non-null  int64  \n",
            " 16  Color             19237 non-null  int64  \n",
            " 17  Airbags           19237 non-null  int64  \n",
            "dtypes: float64(1), int64(17)\n",
            "memory usage: 2.6 MB\n"
          ]
        }
      ]
    },
    {
      "cell_type": "code",
      "source": [
        "columnas_eiliminar = ['ID']\n",
        "data = data.drop(columnas_eiliminar, axis=1)"
      ],
      "metadata": {
        "id": "8FuEVLit-Sno"
      },
      "execution_count": 328,
      "outputs": []
    },
    {
      "cell_type": "code",
      "source": [
        "data.info()"
      ],
      "metadata": {
        "colab": {
          "base_uri": "https://localhost:8080/"
        },
        "id": "H0iPPODU-emU",
        "outputId": "0280b4d7-84d9-44a0-9b95-36cfd46947f2"
      },
      "execution_count": 329,
      "outputs": [
        {
          "output_type": "stream",
          "name": "stdout",
          "text": [
            "<class 'pandas.core.frame.DataFrame'>\n",
            "RangeIndex: 19237 entries, 0 to 19236\n",
            "Data columns (total 17 columns):\n",
            " #   Column            Non-Null Count  Dtype  \n",
            "---  ------            --------------  -----  \n",
            " 0   Price             19237 non-null  int64  \n",
            " 1   Levy              19237 non-null  int64  \n",
            " 2   Manufacturer      19237 non-null  int64  \n",
            " 3   Model             19237 non-null  int64  \n",
            " 4   Prod. year        19237 non-null  int64  \n",
            " 5   Category          19237 non-null  int64  \n",
            " 6   Leather interior  19237 non-null  int64  \n",
            " 7   Fuel type         19237 non-null  int64  \n",
            " 8   Engine volume     19237 non-null  int64  \n",
            " 9   Mileage           19237 non-null  int64  \n",
            " 10  Cylinders         19237 non-null  float64\n",
            " 11  Gear box type     19237 non-null  int64  \n",
            " 12  Drive wheels      19237 non-null  int64  \n",
            " 13  Doors             19237 non-null  int64  \n",
            " 14  Wheel             19237 non-null  int64  \n",
            " 15  Color             19237 non-null  int64  \n",
            " 16  Airbags           19237 non-null  int64  \n",
            "dtypes: float64(1), int64(16)\n",
            "memory usage: 2.5 MB\n"
          ]
        }
      ]
    },
    {
      "cell_type": "code",
      "source": [
        "print(data)"
      ],
      "metadata": {
        "colab": {
          "base_uri": "https://localhost:8080/"
        },
        "id": "8XVxUoEV-v4o",
        "outputId": "8341e1c7-0a23-49c6-e363-4978fa340275"
      },
      "execution_count": 330,
      "outputs": [
        {
          "output_type": "stream",
          "name": "stdout",
          "text": [
            "       Price  Levy  Manufacturer  Model  Prod. year  Category  \\\n",
            "0      13328   114            32   1242        2010         4   \n",
            "1      16621     4             8    658        2011         4   \n",
            "2       8467     0            21    684        2006         3   \n",
            "3       3607   512            16    661        2011         4   \n",
            "4      11726   366            21    684        2014         3   \n",
            "...      ...   ...           ...    ...         ...       ...   \n",
            "19232   8467     0            36    385        1999         1   \n",
            "19233  15681   504            23   1334        2011         9   \n",
            "19234  26108   508            23   1442        2010         4   \n",
            "19235   5331    83             8    456        2007         4   \n",
            "19236    470   480            23   1334        2012         9   \n",
            "\n",
            "       Leather interior  Fuel type  Engine volume  Mileage  Cylinders  \\\n",
            "0                     1          2             63     2838        6.0   \n",
            "1                     0          5             56     2960        6.0   \n",
            "2                     0          5             22     3140        4.0   \n",
            "3                     1          2             46     2413        4.0   \n",
            "4                     1          5             22     7396        4.0   \n",
            "...                 ...        ...            ...      ...        ...   \n",
            "19232                 1          0             37     4394        4.0   \n",
            "19233                 1          5             44     2214        4.0   \n",
            "19234                 1          1             36      638        4.0   \n",
            "19235                 1          1             36     5612        4.0   \n",
            "19236                 1          2             44     2857        4.0   \n",
            "\n",
            "       Gear box type  Drive wheels  Doors  Wheel  Color  Airbags  \n",
            "0                  0             0      1      0     12       12  \n",
            "1                  2             0      1      0      1        8  \n",
            "2                  3             1      1      1      1        2  \n",
            "3                  0             0      1      0     14        0  \n",
            "4                  0             1      1      0     12        4  \n",
            "...              ...           ...    ...    ...    ...      ...  \n",
            "19232              1             2      0      0     12        5  \n",
            "19233              2             1      1      0     11        8  \n",
            "19234              0             1      1      0      7        4  \n",
            "19235              0             1      1      0      1        4  \n",
            "19236              0             1      1      0     14       12  \n",
            "\n",
            "[19237 rows x 17 columns]\n"
          ]
        }
      ]
    },
    {
      "cell_type": "code",
      "source": [
        "x = data.iloc[:, 1:17]\n",
        "y = data.iloc[:, 0]\n",
        "m = y.size\n",
        "print(x.shape)\n",
        "print(y.shape)\n",
        "print(x)\n",
        "print('---'*20)\n",
        "print(y)"
      ],
      "metadata": {
        "colab": {
          "base_uri": "https://localhost:8080/"
        },
        "id": "nVwxWmWY-jt0",
        "outputId": "d7314966-0645-4cf4-fb15-f9713299bde5"
      },
      "execution_count": 331,
      "outputs": [
        {
          "output_type": "stream",
          "name": "stdout",
          "text": [
            "(19237, 16)\n",
            "(19237,)\n",
            "       Levy  Manufacturer  Model  Prod. year  Category  Leather interior  \\\n",
            "0       114            32   1242        2010         4                 1   \n",
            "1         4             8    658        2011         4                 0   \n",
            "2         0            21    684        2006         3                 0   \n",
            "3       512            16    661        2011         4                 1   \n",
            "4       366            21    684        2014         3                 1   \n",
            "...     ...           ...    ...         ...       ...               ...   \n",
            "19232     0            36    385        1999         1                 1   \n",
            "19233   504            23   1334        2011         9                 1   \n",
            "19234   508            23   1442        2010         4                 1   \n",
            "19235    83             8    456        2007         4                 1   \n",
            "19236   480            23   1334        2012         9                 1   \n",
            "\n",
            "       Fuel type  Engine volume  Mileage  Cylinders  Gear box type  \\\n",
            "0              2             63     2838        6.0              0   \n",
            "1              5             56     2960        6.0              2   \n",
            "2              5             22     3140        4.0              3   \n",
            "3              2             46     2413        4.0              0   \n",
            "4              5             22     7396        4.0              0   \n",
            "...          ...            ...      ...        ...            ...   \n",
            "19232          0             37     4394        4.0              1   \n",
            "19233          5             44     2214        4.0              2   \n",
            "19234          1             36      638        4.0              0   \n",
            "19235          1             36     5612        4.0              0   \n",
            "19236          2             44     2857        4.0              0   \n",
            "\n",
            "       Drive wheels  Doors  Wheel  Color  Airbags  \n",
            "0                 0      1      0     12       12  \n",
            "1                 0      1      0      1        8  \n",
            "2                 1      1      1      1        2  \n",
            "3                 0      1      0     14        0  \n",
            "4                 1      1      0     12        4  \n",
            "...             ...    ...    ...    ...      ...  \n",
            "19232             2      0      0     12        5  \n",
            "19233             1      1      0     11        8  \n",
            "19234             1      1      0      7        4  \n",
            "19235             1      1      0      1        4  \n",
            "19236             1      1      0     14       12  \n",
            "\n",
            "[19237 rows x 16 columns]\n",
            "------------------------------------------------------------\n",
            "0        13328\n",
            "1        16621\n",
            "2         8467\n",
            "3         3607\n",
            "4        11726\n",
            "         ...  \n",
            "19232     8467\n",
            "19233    15681\n",
            "19234    26108\n",
            "19235     5331\n",
            "19236      470\n",
            "Name: Price, Length: 19237, dtype: int64\n"
          ]
        }
      ]
    },
    {
      "cell_type": "code",
      "source": [
        "# Crea un nuevo DataFrame con los datos modificados\n",
        "nuevo_data = data.copy()\n",
        "# Guardar el dataset actualizado en un nuevo archivo\n",
        "nuevo_data.to_csv('/content/car2_price_prediction.csv', index=False)"
      ],
      "metadata": {
        "id": "YywScjKO-5Qd"
      },
      "execution_count": 332,
      "outputs": []
    },
    {
      "cell_type": "code",
      "source": [
        "data = np.loadtxt(\"/content/car2_price_prediction.csv\", delimiter=',',skiprows=1)\n",
        "# print(data)\n",
        "X, Y = data[:, 1:17].astype(int), data[:, 0].astype(int)\n",
        "X = X.reshape(len(X),16)\n",
        "print(X.shape)\n",
        "print(Y.shape)"
      ],
      "metadata": {
        "colab": {
          "base_uri": "https://localhost:8080/"
        },
        "id": "G8i2H2Mve2Ro",
        "outputId": "1de07ab6-482a-4942-ed70-b63dd0c14da1"
      },
      "execution_count": 333,
      "outputs": [
        {
          "output_type": "stream",
          "name": "stdout",
          "text": [
            "(19237, 16)\n",
            "(19237,)\n"
          ]
        }
      ]
    },
    {
      "cell_type": "code",
      "source": [
        "X_train, X_test, y_train, y_test = X[:800] , X[800:] , Y[:800].astype(np.int64), y[800:].astype(np.int64)\n",
        "X_train.shape , X_test.shape\n",
        "\n",
        "y_train.shape , y_test.shape"
      ],
      "metadata": {
        "colab": {
          "base_uri": "https://localhost:8080/"
        },
        "id": "86UG4ZVGyI7S",
        "outputId": "c8c20d47-21af-467c-9de9-fd82fe33e5fb"
      },
      "execution_count": 334,
      "outputs": [
        {
          "output_type": "execute_result",
          "data": {
            "text/plain": [
              "((800,), (18437,))"
            ]
          },
          "metadata": {},
          "execution_count": 334
        }
      ]
    },
    {
      "cell_type": "code",
      "source": [
        "def relu(x):\n",
        "  return np.maximum(0, x)\n",
        "\n",
        "def reluPrime(x):\n",
        "  return x > 0"
      ],
      "metadata": {
        "id": "H4-KWz6Tydil"
      },
      "execution_count": 335,
      "outputs": []
    },
    {
      "cell_type": "code",
      "source": [
        "def linear(x):\n",
        "    return x\n",
        "\n",
        "def sigmoid(x):\n",
        "  return 1 / (1 + np.exp(-x))\n",
        "\n",
        "def softmax(x):\n",
        "    return np.exp(x) / np.exp(x).sum(axis=-1,keepdims=True)"
      ],
      "metadata": {
        "id": "hl4g6CDzyfXr"
      },
      "execution_count": 336,
      "outputs": []
    },
    {
      "cell_type": "code",
      "source": [
        "# Mean Square Error -> usada para regresión (con activación lineal)\n",
        "def mse(y, y_hat):\n",
        "    return np.mean((y_hat - y.reshape(y_hat.shape))**2)\n",
        "\n",
        "# Binary Cross Entropy -> usada para clasificación binaria (con sigmoid)\n",
        "def bce(y, y_hat):\n",
        "    return - np.mean(y.reshape(y_hat.shape)*np.log(y_hat) - (1 - y.reshape(y_hat.shape))*np.log(1 - y_hat))\n",
        "\n",
        "# Cross Entropy (aplica softmax + cross entropy de manera estable) -> usada para clasificación multiclase\n",
        "def crossentropy(y, y_hat):\n",
        "    logits = y_hat[np.arange(len(y_hat)),y]\n",
        "    entropy = - logits + np.log(np.sum(np.exp(y_hat),axis=-1))\n",
        "    return entropy.mean()"
      ],
      "metadata": {
        "id": "K0sDIWzuyhab"
      },
      "execution_count": 337,
      "outputs": []
    },
    {
      "cell_type": "code",
      "source": [
        "def grad_mse(y, y_hat):\n",
        "    return y_hat - y.reshape(y_hat.shape)\n",
        "\n",
        "def grad_bce(y, y_hat):\n",
        "    return y_hat - y.reshape(y_hat.shape)\n",
        "\n",
        "def grad_crossentropy(y, y_hat):\n",
        "    answers = np.zeros_like(y_hat)\n",
        "    answers[np.arange(len(y_hat)),y] = 1\n",
        "    return (- answers + softmax(y_hat)) / y_hat.shape[0]"
      ],
      "metadata": {
        "id": "FjdNH1ZuyojF"
      },
      "execution_count": 338,
      "outputs": []
    },
    {
      "cell_type": "code",
      "source": [
        "# clase base MLP\n",
        "\n",
        "class MLP():\n",
        "  def __init__(self, D_in, H, D_out, loss, grad_loss, activation):\n",
        "    # pesos de la capa 1\n",
        "    self.w1, self.b1 = np.random.normal(loc=0.0,\n",
        "                                  scale=np.sqrt(2/(D_in+H)),\n",
        "                                  size=(D_in, H)), np.zeros(H)\n",
        "    # pesos de la capa 2\n",
        "    self.w2, self.b2 = np.random.normal(loc=0.0,\n",
        "                                  scale=np.sqrt(2/(H+D_out)),\n",
        "                                  size=(H, D_out)), np.zeros(D_out)\n",
        "    self.ws = []\n",
        "    # función de pérdida y derivada\n",
        "    self.loss = loss\n",
        "    self.grad_loss = grad_loss\n",
        "    # función de activación\n",
        "    self.activation = activation\n",
        "\n",
        "  def __call__(self, x):\n",
        "    # salida de la capa 1\n",
        "    self.h_pre = np.dot(x, self.w1) + self.b1\n",
        "    self.h = relu(self.h_pre)\n",
        "    # salida del MLP\n",
        "    y_hat = np.dot(self.h, self.w2) + self.b2\n",
        "    return self.activation(y_hat)\n",
        "\n",
        "  def fit(self, X, Y, epochs = 100, lr = 0.001, batch_size=None, verbose=True, log_each=1):\n",
        "    batch_size = len(X) if batch_size == None else batch_size\n",
        "    batches = len(X) // batch_size\n",
        "    l = []\n",
        "    for e in range(1,epochs+1):\n",
        "        # Mini-Batch Gradient Descent\n",
        "        _l = []\n",
        "        for b in range(batches):\n",
        "            # batch de datos\n",
        "            x = X[b*batch_size:(b+1)*batch_size]\n",
        "            y = Y[b*batch_size:(b+1)*batch_size]\n",
        "            # salida del perceptrón\n",
        "            y_pred = self(x)\n",
        "            # función de pérdida\n",
        "            loss = self.loss(y, y_pred)\n",
        "            _l.append(loss)\n",
        "            # Backprop\n",
        "            dldy = self.grad_loss(y, y_pred)\n",
        "            grad_w2 = np.dot(self.h.T, dldy)\n",
        "            grad_b2 = dldy.mean(axis=0)\n",
        "            dldh = np.dot(dldy, self.w2.T)*reluPrime(self.h_pre)\n",
        "            grad_w1 = np.dot(x.T, dldh)\n",
        "            grad_b1 = dldh.mean(axis=0)\n",
        "            # Update (GD)\n",
        "            self.w1 = self.w1 - lr * grad_w1\n",
        "            self.b1 = self.b1 - lr * grad_b1\n",
        "            self.w2 = self.w2 - lr * grad_w2\n",
        "            self.b2 = self.b2 - lr * grad_b2\n",
        "        l.append(np.mean(_l))\n",
        "        # guardamos pesos intermedios para visualización\n",
        "        self.ws.append((\n",
        "            self.w1.copy(),\n",
        "            self.b1.copy(),\n",
        "            self.w2.copy(),\n",
        "            self.b2.copy()\n",
        "        ))\n",
        "        if verbose and not e % log_each:\n",
        "            print(f'Epoch: {e}/{epochs}, Loss: {np.mean(l):.5f}')\n",
        "\n",
        "  def predict(self, ws, x):\n",
        "    w1, b1, w2, b2 = ws\n",
        "    h = relu(np.dot(x, w1) + b1)\n",
        "    y_hat = np.dot(h, w2) + b2\n",
        "    return self.activation(y_hat)"
      ],
      "metadata": {
        "id": "IYrx4VPKyqjd"
      },
      "execution_count": 339,
      "outputs": []
    },
    {
      "cell_type": "code",
      "source": [
        "# MLP para regresión\n",
        "class MLPRegression(MLP):\n",
        "    def __init__(self, D_in, H, D_out):\n",
        "        super().__init__(D_in, H, D_out, mse, grad_mse, linear)\n",
        "\n",
        "# MLP para clasificación binaria\n",
        "class MLPBinaryClassification(MLP):\n",
        "    def __init__(self, D_in, H, D_out):\n",
        "        super().__init__(D_in, H, D_out, bce, grad_bce, sigmoid)\n",
        "\n",
        "# MLP para clasificación multiclase\n",
        "class MLPClassification(MLP):\n",
        "    def __init__(self, D_in, H, D_out):\n",
        "        super().__init__(D_in, H, D_out, crossentropy, grad_crossentropy, linear)"
      ],
      "metadata": {
        "id": "wwRNl4-N_0GE"
      },
      "execution_count": 340,
      "outputs": []
    },
    {
      "cell_type": "code",
      "source": [
        "model = MLPRegression(D_in=16, H=3, D_out=1)\n",
        "epochs, lr = 60, 0.02\n",
        "\n",
        "# normalización datos\n",
        "x_mean = np.mean(X_train)\n",
        "x_std =  np.std(X_train)\n",
        "x_std = np.nan_to_num(x_std, nan=1.0)\n",
        "\n",
        "\n",
        "# Calcula x_norm\n",
        "x_norm = (X_train - x_mean) / x_std\n",
        "\n",
        "model.fit(x_norm, y_train, epochs, lr, batch_size=1, log_each=10)"
      ],
      "metadata": {
        "colab": {
          "base_uri": "https://localhost:8080/"
        },
        "id": "N7yhQpte_2B-",
        "outputId": "0c414174-25f3-4929-ad03-a207da7b8dc9"
      },
      "execution_count": 341,
      "outputs": [
        {
          "output_type": "stream",
          "name": "stdout",
          "text": [
            "Epoch: 10/60, Loss: 294098188.98935\n",
            "Epoch: 20/60, Loss: 293736390.67204\n",
            "Epoch: 30/60, Loss: 293615791.23294\n",
            "Epoch: 40/60, Loss: 293555491.51339\n",
            "Epoch: 50/60, Loss: 293519311.68166\n",
            "Epoch: 60/60, Loss: 293495191.79384\n"
          ]
        }
      ]
    },
    {
      "cell_type": "code",
      "source": [
        "# últimos pesos encontrados\n",
        "\n",
        "w = model.ws[-1]\n",
        "w"
      ],
      "metadata": {
        "id": "zY_FGDTeA4jL",
        "colab": {
          "base_uri": "https://localhost:8080/"
        },
        "outputId": "97e4065b-fc84-45bd-89ed-4fe0b6b6f137"
      },
      "execution_count": 342,
      "outputs": [
        {
          "output_type": "execute_result",
          "data": {
            "text/plain": [
              "(array([[-1.46337467e-01, -2.96190967e+00,  1.73942689e-01],\n",
              "        [ 4.08595737e-02,  1.33178377e+01,  3.06934833e-01],\n",
              "        [ 1.42609045e-01, -8.18962796e+00, -1.87030444e-01],\n",
              "        [-2.59479851e-01, -5.58286064e+01, -4.53363628e-01],\n",
              "        [ 3.14941871e-01,  1.43545771e+01,  3.21338889e-01],\n",
              "        [-9.69157884e-02,  1.37786214e+01,  6.59307678e-02],\n",
              "        [ 1.66032658e-01,  1.39760064e+01, -1.85070546e-01],\n",
              "        [ 6.57459878e-02,  1.28234602e+01,  4.30557869e-01],\n",
              "        [-4.04087363e-02, -1.50640378e+01, -1.63213592e-01],\n",
              "        [ 2.28816784e-01,  1.36469113e+01, -9.21822090e-01],\n",
              "        [ 2.23570945e-01,  1.40188677e+01,  5.09487297e-01],\n",
              "        [ 7.74663037e-01,  1.42188693e+01, -1.16198104e-02],\n",
              "        [-1.53826049e-01,  1.39523259e+01,  3.10917638e-01],\n",
              "        [ 3.63168550e-01,  1.39026726e+01, -4.89036447e-01],\n",
              "        [ 3.63018371e-01,  1.38376765e+01, -1.39562503e-01],\n",
              "        [-2.23890429e-01,  1.28594628e+01,  2.50830959e-01]]),\n",
              " array([  0.        , -36.96356822,   0.        ]),\n",
              " array([[-1.22047625],\n",
              "        [ 3.17079778],\n",
              "        [ 0.07323274]]),\n",
              " array([16680.67377385]))"
            ]
          },
          "metadata": {},
          "execution_count": 342
        }
      ]
    },
    {
      "cell_type": "code",
      "source": [
        "print(\"Primeros 5 datos de entrada de prueba (x_test):\")\n",
        "print(X_test[:5])\n",
        "\n",
        "print(\"Primeras 5 etiquetas de prueba (y_test):\")\n",
        "print(y_test[:5])"
      ],
      "metadata": {
        "id": "P9tkGNwqBOpg",
        "colab": {
          "base_uri": "https://localhost:8080/"
        },
        "outputId": "b11cc867-9794-4a12-bf31-ae48809b81db"
      },
      "execution_count": 343,
      "outputs": [
        {
          "output_type": "stream",
          "name": "stdout",
          "text": [
            "Primeros 5 datos de entrada de prueba (x_test):\n",
            "[[ 554   21  526 2010    4    1    5   44  237    4    0    0    1    0\n",
            "    12   12]\n",
            " [  18   36  601 2012    9    1    1   63 4544    6    0    0    1    0\n",
            "     1   12]\n",
            " [   0    5 1533 2001    4    1    5   57 3752    6    2    0    1    0\n",
            "     1    6]\n",
            " [ 528   23 1442 2016    4    1    1   36 7486    4    0    1    1    0\n",
            "    14    4]\n",
            " [   0   41 1410 2005    3    0    5   26 7567    4    0    1    1    1\n",
            "    12    0]]\n",
            "Primeras 5 etiquetas de prueba (y_test):\n",
            "800     8311\n",
            "801      627\n",
            "802    13485\n",
            "803    38445\n",
            "804     9722\n",
            "Name: Price, dtype: int64\n"
          ]
        }
      ]
    },
    {
      "cell_type": "code",
      "source": [
        "# nuevo punto\n",
        "x_new = X_test\n",
        "X_new = [554,21,526, 2010,4,1,5,44,237,4, 0, 0, 1, 0, 12, 12]\n",
        "y_pred = model.predict(w, X_new)\n",
        "y_pred"
      ],
      "metadata": {
        "id": "f6SwazU9A646",
        "colab": {
          "base_uri": "https://localhost:8080/"
        },
        "outputId": "d7601036-4074-45eb-f8c2-17a8beec6c54"
      },
      "execution_count": 344,
      "outputs": [
        {
          "output_type": "execute_result",
          "data": {
            "text/plain": [
              "array([16680.67377385])"
            ]
          },
          "metadata": {},
          "execution_count": 344
        }
      ]
    },
    {
      "cell_type": "code",
      "source": [
        "def evaluate(model,x, t = 0.5):\n",
        "    w = model.ws[-1]\n",
        "    x = np.c_[np.ones(len(X)), X]\n",
        "    y = model.predict(w, x)\n",
        "    return (y > t).astype(np.int64)"
      ],
      "metadata": {
        "id": "TdvbARh9y55o"
      },
      "execution_count": 345,
      "outputs": []
    },
    {
      "cell_type": "code",
      "source": [
        "def accuracy(y_pred, y):\n",
        "    return np.sum(y_pred == y) / len(y)"
      ],
      "metadata": {
        "id": "lnMrjov0y7b7"
      },
      "execution_count": 346,
      "outputs": []
    }
  ]
}